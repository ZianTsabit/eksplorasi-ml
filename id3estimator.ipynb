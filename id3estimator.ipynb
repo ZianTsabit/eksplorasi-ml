{
 "cells": [
  {
   "cell_type": "code",
   "execution_count": 2,
   "metadata": {},
   "outputs": [],
   "source": [
    "# Perform ID3 algorithm on the breast cancer dataset\n",
    "from sklearn.datasets import load_breast_cancer\n",
    "import six\n",
    "import sys\n",
    "sys.modules['sklearn.externals.six'] = six\n",
    "from id3 import Id3Estimator\n",
    "from id3 import export_graphviz\n",
    "\n",
    "# Load data\n",
    "breast_cancer = load_breast_cancer()\n",
    "estimator = Id3Estimator()\n",
    "estimator.fit(breast_cancer.data, breast_cancer.target)\n",
    "tree = export_graphviz(estimator.tree_, 'tree.dot', breast_cancer.feature_names)\n"
   ]
  }
 ],
 "metadata": {
  "kernelspec": {
   "display_name": "Python 3",
   "language": "python",
   "name": "python3"
  },
  "language_info": {
   "codemirror_mode": {
    "name": "ipython",
    "version": 3
   },
   "file_extension": ".py",
   "mimetype": "text/x-python",
   "name": "python",
   "nbconvert_exporter": "python",
   "pygments_lexer": "ipython3",
   "version": "3.10.6"
  },
  "orig_nbformat": 4,
  "vscode": {
   "interpreter": {
    "hash": "916dbcbb3f70747c44a77c7bcd40155683ae19c65e1c03b4aa3499c5328201f1"
   }
  }
 },
 "nbformat": 4,
 "nbformat_minor": 2
}
