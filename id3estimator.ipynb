{
 "cells": [
  {
   "attachments": {},
   "cell_type": "markdown",
   "metadata": {},
   "source": [
    "# Eksplorasi Algoritma Id3Estimator\n",
    "oleh 13520135/M. Alif Putra Yasa dan 13520165/Ghazian Tsabit Alkamil"
   ]
  },
  {
   "cell_type": "code",
   "execution_count": 8,
   "metadata": {},
   "outputs": [
    {
     "name": "stdout",
     "output_type": "stream",
     "text": [
      "              precision    recall  f1-score   support\n",
      "\n",
      "           0       0.95      0.88      0.92        43\n",
      "           1       0.93      0.97      0.95        71\n",
      "\n",
      "    accuracy                           0.94       114\n",
      "   macro avg       0.94      0.93      0.93       114\n",
      "weighted avg       0.94      0.94      0.94       114\n",
      "\n"
     ]
    }
   ],
   "source": [
    "# Perform ID3 algorithm on the breast cancer dataset\n",
    "from sklearn.datasets import load_breast_cancer\n",
    "from sklearn.model_selection import train_test_split\n",
    "from sklearn.metrics import classification_report\n",
    "import six\n",
    "import sys\n",
    "sys.modules['sklearn.externals.six'] = six\n",
    "from id3 import Id3Estimator\n",
    "import pickle\n",
    "\n",
    "\n",
    "# Load data\n",
    "breast_cancer = load_breast_cancer()\n",
    "\n",
    "# split data into training and testing sets\n",
    "X_train, X_test, y_train, y_test = train_test_split(breast_cancer.data, breast_cancer.target, test_size=0.2, random_state=42)\n",
    "\n",
    "# Create an instance of the Id3Estimator\n",
    "estimator = Id3Estimator()\n",
    "\n",
    "# Train the estimator\n",
    "estimator.fit(X_train, y_train, check_input=True)\n",
    "\n",
    "# save the model\n",
    "with open('id3_model.pkl', 'wb') as f:\n",
    "    pickle.dump(estimator, f)\n",
    "\n",
    "# load the model\n",
    "with open('id3_model.pkl', 'rb') as f:\n",
    "    estimator = pickle.load(f)\n",
    "\n",
    "# Predict\n",
    "y_pred = estimator.predict(X_test)\n",
    "\n",
    "# Evaluate\n",
    "report = classification_report(y_test, y_pred)\n",
    "print(report)"
   ]
  },
  {
   "attachments": {},
   "cell_type": "markdown",
   "metadata": {},
   "source": [
    "Berdasarkan hasil eksplorasi yang telah dilakukan dapat dilihat bahwa hasil evaluasi untuk algoritma Id3Estimator memiliki nilai rata-rata sebesar 0.94 untuk metric precision, nilai rata-rata sebesar 0.93 untuk metric recall, dan nilai rata-rata sebesar 0.93 untuk metric f1."
   ]
  }
 ],
 "metadata": {
  "kernelspec": {
   "display_name": "Python 3 (ipykernel)",
   "language": "python",
   "name": "python3"
  },
  "language_info": {
   "codemirror_mode": {
    "name": "ipython",
    "version": 3
   },
   "file_extension": ".py",
   "mimetype": "text/x-python",
   "name": "python",
   "nbconvert_exporter": "python",
   "pygments_lexer": "ipython3",
   "version": "3.10.4"
  },
  "vscode": {
   "interpreter": {
    "hash": "369f2c481f4da34e4445cda3fffd2e751bd1c4d706f27375911949ba6bb62e1c"
   }
  }
 },
 "nbformat": 4,
 "nbformat_minor": 2
}
