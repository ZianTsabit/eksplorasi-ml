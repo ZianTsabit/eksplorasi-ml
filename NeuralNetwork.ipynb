{
 "cells": [
  {
   "cell_type": "markdown",
   "id": "f091214e",
   "metadata": {},
   "source": [
    "# Explorasi Neural Network"
   ]
  },
  {
   "cell_type": "markdown",
   "id": "f56503f2",
   "metadata": {},
   "source": [
    "Load libraries yang diperlukan untuk melakukan pembelajaran."
   ]
  },
  {
   "cell_type": "code",
   "execution_count": 1,
   "id": "e1fba9b1",
   "metadata": {},
   "outputs": [],
   "source": [
    "# Load libraries\n",
    "from sklearn.datasets import load_breast_cancer\n",
    "from sklearn.model_selection import train_test_split\n",
    "from sklearn.metrics import classification_report, confusion_matrix\n",
    "from sklearn.neural_network import MLPClassifier\n",
    "import pickle"
   ]
  },
  {
   "cell_type": "markdown",
   "id": "2e8430f4",
   "metadata": {},
   "source": [
    "Baca datanya dan bagi menjadi data training dan test."
   ]
  },
  {
   "cell_type": "code",
   "execution_count": 2,
   "id": "5fab6533",
   "metadata": {},
   "outputs": [],
   "source": [
    "# Load the data\n",
    "breast_cancer = load_breast_cancer()\n",
    "\n",
    "# split data into training and testing sets\n",
    "X_train, X_test, y_train, y_test = train_test_split(breast_cancer.data, breast_cancer.target, test_size=0.2, random_state=42)"
   ]
  },
  {
   "cell_type": "markdown",
   "id": "5ebc449d",
   "metadata": {},
   "source": [
    "Latih algoritma dengan dataset training."
   ]
  },
  {
   "cell_type": "code",
   "execution_count": 3,
   "id": "1f06ddd7",
   "metadata": {},
   "outputs": [
    {
     "name": "stderr",
     "output_type": "stream",
     "text": [
      "C:\\ProgramData\\Anaconda3\\lib\\site-packages\\sklearn\\neural_network\\_multilayer_perceptron.py:692: ConvergenceWarning: Stochastic Optimizer: Maximum iterations (200) reached and the optimization hasn't converged yet.\n",
      "  warnings.warn(\n"
     ]
    },
    {
     "data": {
      "text/plain": [
       "MLPClassifier()"
      ]
     },
     "execution_count": 3,
     "metadata": {},
     "output_type": "execute_result"
    }
   ],
   "source": [
    "# Make an object and fit the data\n",
    "MLPC = MLPClassifier()\n",
    "MLPC.fit(X_train, y_train)"
   ]
  },
  {
   "cell_type": "markdown",
   "id": "959e34ed",
   "metadata": {},
   "source": [
    "Simpan model pada suatu file, kemudian load kembali file tersebut."
   ]
  },
  {
   "cell_type": "code",
   "execution_count": 4,
   "id": "6b40cf72",
   "metadata": {},
   "outputs": [],
   "source": [
    "# Save the model\n",
    "with open('NeuralNetwork_model.pkl', 'wb') as f:\n",
    "    pickle.dump(MLPC, f)"
   ]
  },
  {
   "cell_type": "code",
   "execution_count": 5,
   "id": "acd33a87",
   "metadata": {},
   "outputs": [],
   "source": [
    "# Load the model\n",
    "with open('NeuralNetwork_model.pkl', 'rb') as f:\n",
    "    MLPC = pickle.load(f)"
   ]
  },
  {
   "cell_type": "markdown",
   "id": "293e1816",
   "metadata": {},
   "source": [
    "Lakukan prediksi menggunakan algoritma yang telah di-train menggunakan dataset test."
   ]
  },
  {
   "cell_type": "code",
   "execution_count": 6,
   "id": "9b5e35d0",
   "metadata": {},
   "outputs": [],
   "source": [
    "# Predict result\n",
    "y_pred = MLPC.predict(X_test)"
   ]
  },
  {
   "cell_type": "markdown",
   "id": "9f1f50f1",
   "metadata": {},
   "source": [
    "Tampilkan confusion matrix dari prediksi"
   ]
  },
  {
   "cell_type": "code",
   "execution_count": 7,
   "id": "49cf3f7d",
   "metadata": {
    "scrolled": false
   },
   "outputs": [
    {
     "name": "stdout",
     "output_type": "stream",
     "text": [
      "[[37  6]\n",
      " [ 0 71]]\n"
     ]
    }
   ],
   "source": [
    "cm = confusion_matrix(y_test, y_pred)\n",
    "print(cm)"
   ]
  },
  {
   "cell_type": "markdown",
   "id": "d6a8e66c",
   "metadata": {},
   "source": [
    "Tampilkan laporan perbandingan hasil prediksi dengan hasil asli prediksi."
   ]
  },
  {
   "cell_type": "code",
   "execution_count": 8,
   "id": "fe4c173e",
   "metadata": {
    "scrolled": true
   },
   "outputs": [
    {
     "name": "stdout",
     "output_type": "stream",
     "text": [
      "              precision    recall  f1-score   support\n",
      "\n",
      "           0       1.00      0.86      0.92        43\n",
      "           1       0.92      1.00      0.96        71\n",
      "\n",
      "    accuracy                           0.95       114\n",
      "   macro avg       0.96      0.93      0.94       114\n",
      "weighted avg       0.95      0.95      0.95       114\n",
      "\n"
     ]
    }
   ],
   "source": [
    "report = classification_report(y_test, y_pred)\n",
    "print(report)"
   ]
  },
  {
   "cell_type": "markdown",
   "id": "c2a44107",
   "metadata": {},
   "source": [
    "Terdapat tiga metrik peniliaian yaitu Precision, Recall, dan F1-score. Berikut penjelasan singkat masing-masing:\n",
    " - Precision: Dari semua tebakan positif, berapa banyak yang benar-benar positif?\n",
    " - Recall: Dari semua data yang positif, berapa banyak yang benar ditebak positif?\n",
    " - F1-score: Harmonic Mean dari Precision dan Recall.\n",
    "\n",
    "Nilai tersebut merupakan nilai per kelas, sehingga untuk didapatkan nilai keseluruhan dilakukan rata-rata dengan macro average dan weigted average."
   ]
  }
 ],
 "metadata": {
  "kernelspec": {
   "display_name": "Python 3 (ipykernel)",
   "language": "python",
   "name": "python3"
  },
  "language_info": {
   "codemirror_mode": {
    "name": "ipython",
    "version": 3
   },
   "file_extension": ".py",
   "mimetype": "text/x-python",
   "name": "python",
   "nbconvert_exporter": "python",
   "pygments_lexer": "ipython3",
   "version": "3.9.13"
  },
  "vscode": {
   "interpreter": {
    "hash": "369f2c481f4da34e4445cda3fffd2e751bd1c4d706f27375911949ba6bb62e1c"
   }
  }
 },
 "nbformat": 4,
 "nbformat_minor": 5
}
