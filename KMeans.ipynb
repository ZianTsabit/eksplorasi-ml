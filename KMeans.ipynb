{
 "cells": [
  {
   "cell_type": "markdown",
   "id": "f091214e",
   "metadata": {},
   "source": [
    "# Explorasi K-Means"
   ]
  },
  {
   "cell_type": "markdown",
   "id": "f56503f2",
   "metadata": {},
   "source": [
    "Load libraries yang diperlukan untuk melakukan pembelajaran."
   ]
  },
  {
   "cell_type": "code",
   "execution_count": 1,
   "id": "e1fba9b1",
   "metadata": {},
   "outputs": [],
   "source": [
    "# Load libraries\n",
    "from sklearn.datasets import load_breast_cancer\n",
    "from sklearn.model_selection import train_test_split\n",
    "from sklearn.metrics import confusion_matrix\n",
    "from sklearn.metrics import classification_report\n",
    "from sklearn.cluster import KMeans\n",
    "import numpy as np\n",
    "import random\n",
    "import pickle"
   ]
  },
  {
   "cell_type": "markdown",
   "id": "2e8430f4",
   "metadata": {},
   "source": [
    "Baca datanya dan bagi menjadi data training dan test."
   ]
  },
  {
   "cell_type": "code",
   "execution_count": 2,
   "id": "5fab6533",
   "metadata": {},
   "outputs": [],
   "source": [
    "# Load the data\n",
    "breast_cancer = load_breast_cancer()\n",
    "\n",
    "# split data into training and testing sets\n",
    "X_train, X_test, y_train, y_test = train_test_split(breast_cancer.data, breast_cancer.target, test_size=0.2, random_state=42)"
   ]
  },
  {
   "cell_type": "markdown",
   "id": "5ebc449d",
   "metadata": {},
   "source": [
    "Latih algoritma dengan dataset training. Inisialisasi cluster supaya label sama."
   ]
  },
  {
   "cell_type": "code",
   "execution_count": 3,
   "id": "1f06ddd7",
   "metadata": {},
   "outputs": [
    {
     "data": {
      "text/plain": [
       "KMeans(init=array([[1.603e+01, 1.551e+01, 1.058e+02, 7.932e+02, 9.491e-02, 1.371e-01,\n",
       "        1.204e-01, 7.041e-02, 1.782e-01, 5.976e-02, 3.371e-01, 7.476e-01,\n",
       "        2.629e+00, 3.327e+01, 5.839e-03, 3.245e-02, 3.715e-02, 1.459e-02,\n",
       "        1.467e-02, 3.121e-03, 1.876e+01, 2.198e+01, 1.243e+02, 1.070e+03,\n",
       "        1.435e-01, 4.478e-01, 4.956e-01, 1.981e-01, 3.019e-01, 9.124e-02],\n",
       "       [1.220e+01, 1.521e+01, 7.801e+01, 4.579e+02, 8.673e-02, 6.545e-02,\n",
       "        1.994e-02, 1.692e-02, 1.638e-01, 6.129e-02, 2.575e-01, 8.073e-01,\n",
       "        1.959e+00, 1.901e+01, 5.403e-03, 1.418e-02, 1.051e-02, 5.142e-03,\n",
       "        1.333e-02, 2.065e-03, 1.375e+01, 2.138e+01, 9.111e+01, 5.831e+02,\n",
       "        1.256e-01, 1.928e-01, 1.167e-01, 5.556e-02, 2.661e-01, 7.961e-02]]),\n",
       "       n_clusters=2, n_init=1)"
      ]
     },
     "execution_count": 3,
     "metadata": {},
     "output_type": "execute_result"
    }
   ],
   "source": [
    "# Using random predetermined data as seed\n",
    "kmeans_init = np.array([random.choice(X_train[y_train == 0]), random.choice(X_train[y_train == 1])])\n",
    "# Make an object and fit the data\n",
    "KM = KMeans(n_clusters=2, init=kmeans_init, n_init=1)\n",
    "KM.fit(X_train)"
   ]
  },
  {
   "cell_type": "markdown",
   "id": "959e34ed",
   "metadata": {},
   "source": [
    "Simpan model pada suatu file, kemudian load kembali file tersebut."
   ]
  },
  {
   "cell_type": "code",
   "execution_count": 4,
   "id": "6b40cf72",
   "metadata": {},
   "outputs": [],
   "source": [
    "# Save the model\n",
    "with open('KMeans_model.pkl', 'wb') as f:\n",
    "    pickle.dump(KM, f)"
   ]
  },
  {
   "cell_type": "code",
   "execution_count": 5,
   "id": "acd33a87",
   "metadata": {},
   "outputs": [],
   "source": [
    "# Load the model\n",
    "with open('KMeans_model.pkl', 'rb') as f:\n",
    "    KM = pickle.load(f)"
   ]
  },
  {
   "cell_type": "markdown",
   "id": "293e1816",
   "metadata": {},
   "source": [
    "Lakukan prediksi menggunakan algoritma yang telah di-train menggunakan dataset test."
   ]
  },
  {
   "cell_type": "code",
   "execution_count": 6,
   "id": "9b5e35d0",
   "metadata": {},
   "outputs": [],
   "source": [
    "# Predict result\n",
    "y_pred = KM.predict(X_test)"
   ]
  },
  {
   "cell_type": "markdown",
   "id": "9f1f50f1",
   "metadata": {},
   "source": [
    "Tampilkan confusion matrix dari prediksi"
   ]
  },
  {
   "cell_type": "code",
   "execution_count": 7,
   "id": "49cf3f7d",
   "metadata": {
    "scrolled": true
   },
   "outputs": [
    {
     "name": "stdout",
     "output_type": "stream",
     "text": [
      "[[29 14]\n",
      " [ 0 71]]\n"
     ]
    }
   ],
   "source": [
    "cm = confusion_matrix(y_test, y_pred)\n",
    "print(cm)"
   ]
  },
  {
   "cell_type": "markdown",
   "id": "d6a8e66c",
   "metadata": {},
   "source": [
    "Tampilkan laporan perbandingan hasil prediksi dengan hasil asli prediksi."
   ]
  },
  {
   "cell_type": "code",
   "execution_count": 8,
   "id": "fe4c173e",
   "metadata": {
    "scrolled": true
   },
   "outputs": [
    {
     "name": "stdout",
     "output_type": "stream",
     "text": [
      "              precision    recall  f1-score   support\n",
      "\n",
      "           0       1.00      0.67      0.81        43\n",
      "           1       0.84      1.00      0.91        71\n",
      "\n",
      "    accuracy                           0.88       114\n",
      "   macro avg       0.92      0.84      0.86       114\n",
      "weighted avg       0.90      0.88      0.87       114\n",
      "\n"
     ]
    }
   ],
   "source": [
    "report = classification_report(y_test, y_pred)\n",
    "print(report)"
   ]
  },
  {
   "cell_type": "markdown",
   "id": "c2a44107",
   "metadata": {},
   "source": [
    "Terdapat tiga metrik peniliaian yaitu Precision, Recall, dan F1-score. Berikut penjelasan singkat masing-masing:\n",
    " - Precision: Dari semua tebakan positif, berapa banyak yang benar-benar positif?\n",
    " - Recall: Dari semua data yang positif, berapa banyak yang benar ditebak positif?\n",
    " - F1-score: Harmonic Mean dari Precision dan Recall.\n",
    "\n",
    "Nilai tersebut merupakan nilai per kelas, sehingga untuk didapatkan nilai keseluruhan dilakukan rata-rata dengan macro average dan weigted average."
   ]
  }
 ],
 "metadata": {
  "kernelspec": {
   "display_name": "Python 3 (ipykernel)",
   "language": "python",
   "name": "python3"
  },
  "language_info": {
   "codemirror_mode": {
    "name": "ipython",
    "version": 3
   },
   "file_extension": ".py",
   "mimetype": "text/x-python",
   "name": "python",
   "nbconvert_exporter": "python",
   "pygments_lexer": "ipython3",
   "version": "3.8.10"
  }
 },
 "nbformat": 4,
 "nbformat_minor": 5
}
