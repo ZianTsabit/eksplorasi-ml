{
 "cells": [
  {
   "cell_type": "markdown",
   "id": "f091214e",
   "metadata": {},
   "source": [
    "# Explorasi K-Means"
   ]
  },
  {
   "cell_type": "code",
   "execution_count": 1,
   "id": "e1fba9b1",
   "metadata": {},
   "outputs": [],
   "source": [
    "# Load libraries\n",
    "from sklearn.datasets import load_breast_cancer\n",
    "from sklearn.model_selection import train_test_split\n",
    "from sklearn.metrics import accuracy_score\n",
    "from sklearn.metrics import classification_report\n",
    "from sklearn.cluster import KMeans\n",
    "import numpy as np\n",
    "import random\n",
    "import pickle"
   ]
  },
  {
   "cell_type": "code",
   "execution_count": 2,
   "id": "5fab6533",
   "metadata": {},
   "outputs": [],
   "source": [
    "# Load the data\n",
    "breast_cancer = load_breast_cancer()\n",
    "\n",
    "# split data into training and testing sets\n",
    "X_train, X_test, y_train, y_test = train_test_split(breast_cancer.data, breast_cancer.target, test_size=0.2, random_state=42)"
   ]
  },
  {
   "cell_type": "code",
   "execution_count": 3,
   "id": "1f06ddd7",
   "metadata": {},
   "outputs": [
    {
     "data": {
      "text/plain": [
       "KMeans(init=array([[1.277e+01, 2.247e+01, 8.172e+01, 5.063e+02, 9.055e-02, 5.761e-02,\n",
       "        4.711e-02, 2.704e-02, 1.585e-01, 6.065e-02, 2.367e-01, 1.380e+00,\n",
       "        1.457e+00, 1.987e+01, 7.499e-03, 1.202e-02, 2.332e-02, 8.920e-03,\n",
       "        1.647e-02, 2.629e-03, 1.449e+01, 3.337e+01, 9.204e+01, 6.536e+02,\n",
       "        1.419e-01, 1.523e-01, 2.177e-01, 9.331e-02, 2.829e-01, 8.067e-02],\n",
       "       [1.236e+01, 2.180e+01, 7.978e+01, 4.661e+02, 8.772e-02, 9.445e-02,\n",
       "        6.015e-02, 3.745e-02, 1.930e-01, 6.404e-02, 2.978e-01, 1.502e+00,\n",
       "        2.203e+00, 2.095e+01, 7.112e-03, 2.493e-02, 2.703e-02, 1.293e-02,\n",
       "        1.958e-02, 4.463e-03, 1.383e+01, 3.050e+01, 9.146e+01, 5.747e+02,\n",
       "        1.304e-01, 2.463e-01, 2.434e-01, 1.205e-01, 2.972e-01, 9.261e-02]]),\n",
       "       n_clusters=2, n_init=1)"
      ]
     },
     "execution_count": 3,
     "metadata": {},
     "output_type": "execute_result"
    }
   ],
   "source": [
    "# Using random predetermined data as seed\n",
    "kmeans_init = np.array([random.choice(X_train[y_train == 0]), random.choice(X_train[y_train == 1])])\n",
    "# Make an object and fit the data\n",
    "KM = KMeans(n_clusters=2, init=kmeans_init, n_init=1)\n",
    "KM.fit(X_train)"
   ]
  },
  {
   "cell_type": "code",
   "execution_count": 4,
   "id": "6b40cf72",
   "metadata": {},
   "outputs": [],
   "source": [
    "# Save the model\n",
    "with open('kmeans_model.pkl', 'wb') as f:\n",
    "    pickle.dump(KM, f)"
   ]
  },
  {
   "cell_type": "code",
   "execution_count": 5,
   "id": "acd33a87",
   "metadata": {},
   "outputs": [],
   "source": [
    "# Load the model\n",
    "with open('kmeans_model.pkl', 'rb') as f:\n",
    "    KM = pickle.load(f)"
   ]
  },
  {
   "cell_type": "code",
   "execution_count": 6,
   "id": "9b5e35d0",
   "metadata": {},
   "outputs": [],
   "source": [
    "# Predict result\n",
    "y_pred = KM.predict(X_test)"
   ]
  },
  {
   "cell_type": "code",
   "execution_count": 7,
   "id": "fe4c173e",
   "metadata": {},
   "outputs": [
    {
     "name": "stdout",
     "output_type": "stream",
     "text": [
      "              precision    recall  f1-score   support\n",
      "\n",
      "           0       1.00      0.67      0.81        43\n",
      "           1       0.84      1.00      0.91        71\n",
      "\n",
      "    accuracy                           0.88       114\n",
      "   macro avg       0.92      0.84      0.86       114\n",
      "weighted avg       0.90      0.88      0.87       114\n",
      "\n"
     ]
    }
   ],
   "source": [
    "report = classification_report(y_test, y_pred)\n",
    "print(report)"
   ]
  }
 ],
 "metadata": {
  "kernelspec": {
   "display_name": "Python 3 (ipykernel)",
   "language": "python",
   "name": "python3"
  },
  "language_info": {
   "codemirror_mode": {
    "name": "ipython",
    "version": 3
   },
   "file_extension": ".py",
   "mimetype": "text/x-python",
   "name": "python",
   "nbconvert_exporter": "python",
   "pygments_lexer": "ipython3",
   "version": "3.9.13"
  }
 },
 "nbformat": 4,
 "nbformat_minor": 5
}
