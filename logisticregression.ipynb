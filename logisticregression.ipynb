{
 "cells": [
  {
   "cell_type": "code",
   "execution_count": 1,
   "metadata": {},
   "outputs": [
    {
     "name": "stdout",
     "output_type": "stream",
     "text": [
      "0.9472759226713533\n",
      "[[ 0.94634594  0.45650104  0.27993267 -0.01628028 -0.03518289 -0.16578177\n",
      "  -0.23211915 -0.09776119 -0.04873753 -0.00972074  0.04109809  0.37339463\n",
      "   0.14475444 -0.11004957 -0.0031832  -0.03564173 -0.0496367  -0.01273017\n",
      "  -0.01176606 -0.00330922  1.00604147 -0.50456903 -0.24838526 -0.01376048\n",
      "  -0.06384078 -0.5170182  -0.64343754 -0.18811286 -0.15454181 -0.04967461]]\n",
      "[0.17631405]\n"
     ]
    },
    {
     "name": "stderr",
     "output_type": "stream",
     "text": [
      "/home/ziantsabit/.local/lib/python3.10/site-packages/sklearn/linear_model/_logistic.py:458: ConvergenceWarning: lbfgs failed to converge (status=1):\n",
      "STOP: TOTAL NO. of ITERATIONS REACHED LIMIT.\n",
      "\n",
      "Increase the number of iterations (max_iter) or scale the data as shown in:\n",
      "    https://scikit-learn.org/stable/modules/preprocessing.html\n",
      "Please also refer to the documentation for alternative solver options:\n",
      "    https://scikit-learn.org/stable/modules/linear_model.html#logistic-regression\n",
      "  n_iter_i = _check_optimize_result(\n"
     ]
    }
   ],
   "source": [
    "# Perform logistic regression on the data\n",
    "from sklearn.datasets import load_breast_cancer\n",
    "from sklearn.linear_model import LogisticRegression\n",
    "\n",
    "\n",
    "# Load the data\n",
    "breast_cancer = load_breast_cancer()\n",
    "\n",
    "# Create the model\n",
    "model = LogisticRegression()\n",
    "\n",
    "# Fit the model\n",
    "model.fit(breast_cancer.data, breast_cancer.target)\n",
    "\n",
    "# Print the model's score\n",
    "print(model.score(breast_cancer.data, breast_cancer.target))\n",
    "\n",
    "# Print the model's coefficients\n",
    "print(model.coef_)\n",
    "\n",
    "# Print the model's intercept\n",
    "print(model.intercept_)\n",
    "\n"
   ]
  }
 ],
 "metadata": {
  "kernelspec": {
   "display_name": "Python 3",
   "language": "python",
   "name": "python3"
  },
  "language_info": {
   "codemirror_mode": {
    "name": "ipython",
    "version": 3
   },
   "file_extension": ".py",
   "mimetype": "text/x-python",
   "name": "python",
   "nbconvert_exporter": "python",
   "pygments_lexer": "ipython3",
   "version": "3.10.6"
  },
  "orig_nbformat": 4,
  "vscode": {
   "interpreter": {
    "hash": "916dbcbb3f70747c44a77c7bcd40155683ae19c65e1c03b4aa3499c5328201f1"
   }
  }
 },
 "nbformat": 4,
 "nbformat_minor": 2
}
