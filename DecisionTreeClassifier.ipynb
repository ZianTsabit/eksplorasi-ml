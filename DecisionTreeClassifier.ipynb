{
 "cells": [
  {
   "cell_type": "markdown",
   "id": "f091214e",
   "metadata": {},
   "source": [
    "# Explorasi Decision Tree Classifier"
   ]
  },
  {
   "cell_type": "code",
   "execution_count": 1,
   "id": "e1fba9b1",
   "metadata": {},
   "outputs": [],
   "source": [
    "# Load libraries\n",
    "from sklearn.datasets import load_breast_cancer\n",
    "from sklearn.model_selection import train_test_split\n",
    "from sklearn.metrics import accuracy_score\n",
    "from sklearn.metrics import classification_report\n",
    "from sklearn.tree import DecisionTreeClassifier, export_text\n",
    "from sklearn.model_selection import cross_validate\n",
    "import pickle"
   ]
  },
  {
   "cell_type": "code",
   "execution_count": 2,
   "id": "5fab6533",
   "metadata": {},
   "outputs": [],
   "source": [
    "# Load the data\n",
    "breast_cancer = load_breast_cancer()\n",
    "\n",
    "# split data into training and testing sets\n",
    "X_train, X_test, y_train, y_test = train_test_split(breast_cancer.data, breast_cancer.target, test_size=0.2, random_state=42)"
   ]
  },
  {
   "cell_type": "code",
   "execution_count": 3,
   "id": "1f06ddd7",
   "metadata": {},
   "outputs": [
    {
     "data": {
      "text/plain": [
       "DecisionTreeClassifier()"
      ]
     },
     "execution_count": 3,
     "metadata": {},
     "output_type": "execute_result"
    }
   ],
   "source": [
    "# Make an object and fit the data\n",
    "DTC = DecisionTreeClassifier()\n",
    "DTC.fit(X_train, y_train)"
   ]
  },
  {
   "cell_type": "code",
   "execution_count": 4,
   "id": "6b40cf72",
   "metadata": {},
   "outputs": [],
   "source": [
    "# Save the model\n",
    "with open('dtc_model.pkl', 'wb') as f:\n",
    "    pickle.dump(DTC, f)"
   ]
  },
  {
   "cell_type": "code",
   "execution_count": 5,
   "id": "acd33a87",
   "metadata": {},
   "outputs": [],
   "source": [
    "# Load the model\n",
    "with open('dtc_model.pkl', 'rb') as f:\n",
    "    DTC = pickle.load(f)"
   ]
  },
  {
   "cell_type": "code",
   "execution_count": 6,
   "id": "9b5e35d0",
   "metadata": {},
   "outputs": [],
   "source": [
    "# Predict result\n",
    "y_pred = DTC.predict(X_test)"
   ]
  },
  {
   "cell_type": "code",
   "execution_count": 7,
   "id": "fe4c173e",
   "metadata": {},
   "outputs": [
    {
     "name": "stdout",
     "output_type": "stream",
     "text": [
      "              precision    recall  f1-score   support\n",
      "\n",
      "           0       0.93      0.91      0.92        43\n",
      "           1       0.94      0.96      0.95        71\n",
      "\n",
      "    accuracy                           0.94       114\n",
      "   macro avg       0.94      0.93      0.93       114\n",
      "weighted avg       0.94      0.94      0.94       114\n",
      "\n"
     ]
    }
   ],
   "source": [
    "report = classification_report(y_test, y_pred)\n",
    "print(report)"
   ]
  },
  {
   "cell_type": "code",
   "execution_count": 8,
   "id": "c67c8ce2",
   "metadata": {},
   "outputs": [
    {
     "name": "stdout",
     "output_type": "stream",
     "text": [
      "|--- mean concave points <= 0.05\n",
      "|   |--- worst radius <= 16.83\n",
      "|   |   |--- area error <= 48.70\n",
      "|   |   |   |--- worst smoothness <= 0.18\n",
      "|   |   |   |   |--- smoothness error <= 0.00\n",
      "|   |   |   |   |   |--- mean texture <= 19.90\n",
      "|   |   |   |   |   |   |--- class: 1\n",
      "|   |   |   |   |   |--- mean texture >  19.90\n",
      "|   |   |   |   |   |   |--- class: 0\n",
      "|   |   |   |   |--- smoothness error >  0.00\n",
      "|   |   |   |   |   |--- worst texture <= 33.35\n",
      "|   |   |   |   |   |   |--- class: 1\n",
      "|   |   |   |   |   |--- worst texture >  33.35\n",
      "|   |   |   |   |   |   |--- worst texture <= 33.56\n",
      "|   |   |   |   |   |   |   |--- class: 0\n",
      "|   |   |   |   |   |   |--- worst texture >  33.56\n",
      "|   |   |   |   |   |   |   |--- class: 1\n",
      "|   |   |   |--- worst smoothness >  0.18\n",
      "|   |   |   |   |--- class: 0\n",
      "|   |   |--- area error >  48.70\n",
      "|   |   |   |--- symmetry error <= 0.02\n",
      "|   |   |   |   |--- class: 0\n",
      "|   |   |   |--- symmetry error >  0.02\n",
      "|   |   |   |   |--- class: 1\n",
      "|   |--- worst radius >  16.83\n",
      "|   |   |--- worst texture <= 19.91\n",
      "|   |   |   |--- class: 1\n",
      "|   |   |--- worst texture >  19.91\n",
      "|   |   |   |--- concave points error <= 0.01\n",
      "|   |   |   |   |--- class: 0\n",
      "|   |   |   |--- concave points error >  0.01\n",
      "|   |   |   |   |--- class: 1\n",
      "|--- mean concave points >  0.05\n",
      "|   |--- worst concave points <= 0.15\n",
      "|   |   |--- worst perimeter <= 115.25\n",
      "|   |   |   |--- worst texture <= 27.43\n",
      "|   |   |   |   |--- class: 1\n",
      "|   |   |   |--- worst texture >  27.43\n",
      "|   |   |   |   |--- class: 0\n",
      "|   |   |--- worst perimeter >  115.25\n",
      "|   |   |   |--- class: 0\n",
      "|   |--- worst concave points >  0.15\n",
      "|   |   |--- fractal dimension error <= 0.01\n",
      "|   |   |   |--- class: 0\n",
      "|   |   |--- fractal dimension error >  0.01\n",
      "|   |   |   |--- class: 1\n",
      "\n"
     ]
    }
   ],
   "source": [
    "# Hasil Tree\n",
    "dtree = export_text(DTC, feature_names=list(breast_cancer[\"feature_names\"]))\n",
    "print(dtree)"
   ]
  },
  {
   "cell_type": "code",
   "execution_count": 9,
   "id": "97c1cef3",
   "metadata": {},
   "outputs": [],
   "source": [
    "cv_result = cross_validate(DecisionTreeClassifier(), X_train, y_train, cv=10, return_estimator=True)"
   ]
  },
  {
   "cell_type": "code",
   "execution_count": 10,
   "id": "2a75066f",
   "metadata": {},
   "outputs": [],
   "source": [
    "DTC_CV = cv_result[\"estimator\"][cv_result[\"test_score\"].argmax()]"
   ]
  },
  {
   "cell_type": "code",
   "execution_count": 11,
   "id": "4588832c",
   "metadata": {},
   "outputs": [],
   "source": [
    "y_pred_cv = DTC_CV.predict(X_test)"
   ]
  },
  {
   "cell_type": "code",
   "execution_count": 12,
   "id": "917b76aa",
   "metadata": {},
   "outputs": [
    {
     "name": "stdout",
     "output_type": "stream",
     "text": [
      "              precision    recall  f1-score   support\n",
      "\n",
      "           0       0.91      0.95      0.93        43\n",
      "           1       0.97      0.94      0.96        71\n",
      "\n",
      "    accuracy                           0.95       114\n",
      "   macro avg       0.94      0.95      0.94       114\n",
      "weighted avg       0.95      0.95      0.95       114\n",
      "\n"
     ]
    }
   ],
   "source": [
    "report = classification_report(y_test, y_pred_cv)\n",
    "print(report)"
   ]
  }
 ],
 "metadata": {
  "kernelspec": {
   "display_name": "Python 3 (ipykernel)",
   "language": "python",
   "name": "python3"
  },
  "language_info": {
   "codemirror_mode": {
    "name": "ipython",
    "version": 3
   },
   "file_extension": ".py",
   "mimetype": "text/x-python",
   "name": "python",
   "nbconvert_exporter": "python",
   "pygments_lexer": "ipython3",
   "version": "3.9.13"
  }
 },
 "nbformat": 4,
 "nbformat_minor": 5
}
